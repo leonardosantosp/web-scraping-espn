{
 "cells": [
  {
   "cell_type": "code",
   "execution_count": 1,
   "metadata": {},
   "outputs": [
    {
     "name": "stdout",
     "output_type": "stream",
     "text": [
      "Requirement already satisfied: selenium in c:\\users\\asus\\appdata\\local\\programs\\python\\python312\\lib\\site-packages (4.25.0)\n",
      "Requirement already satisfied: urllib3<3,>=1.26 in c:\\users\\asus\\appdata\\local\\programs\\python\\python312\\lib\\site-packages (from urllib3[socks]<3,>=1.26->selenium) (2.2.2)\n",
      "Requirement already satisfied: trio~=0.17 in c:\\users\\asus\\appdata\\local\\programs\\python\\python312\\lib\\site-packages (from selenium) (0.27.0)\n",
      "Requirement already satisfied: trio-websocket~=0.9 in c:\\users\\asus\\appdata\\local\\programs\\python\\python312\\lib\\site-packages (from selenium) (0.11.1)\n",
      "Requirement already satisfied: certifi>=2021.10.8 in c:\\users\\asus\\appdata\\local\\programs\\python\\python312\\lib\\site-packages (from selenium) (2024.6.2)\n",
      "Requirement already satisfied: typing_extensions~=4.9 in c:\\users\\asus\\appdata\\local\\programs\\python\\python312\\lib\\site-packages (from selenium) (4.12.2)\n",
      "Requirement already satisfied: websocket-client~=1.8 in c:\\users\\asus\\appdata\\local\\programs\\python\\python312\\lib\\site-packages (from selenium) (1.8.0)\n",
      "Requirement already satisfied: attrs>=23.2.0 in c:\\users\\asus\\appdata\\local\\programs\\python\\python312\\lib\\site-packages (from trio~=0.17->selenium) (24.2.0)\n",
      "Requirement already satisfied: sortedcontainers in c:\\users\\asus\\appdata\\local\\programs\\python\\python312\\lib\\site-packages (from trio~=0.17->selenium) (2.4.0)\n",
      "Requirement already satisfied: idna in c:\\users\\asus\\appdata\\local\\programs\\python\\python312\\lib\\site-packages (from trio~=0.17->selenium) (3.7)\n",
      "Requirement already satisfied: outcome in c:\\users\\asus\\appdata\\local\\programs\\python\\python312\\lib\\site-packages (from trio~=0.17->selenium) (1.3.0.post0)\n",
      "Requirement already satisfied: sniffio>=1.3.0 in c:\\users\\asus\\appdata\\local\\programs\\python\\python312\\lib\\site-packages (from trio~=0.17->selenium) (1.3.1)\n",
      "Requirement already satisfied: cffi>=1.14 in c:\\users\\asus\\appdata\\local\\programs\\python\\python312\\lib\\site-packages (from trio~=0.17->selenium) (1.17.1)\n",
      "Requirement already satisfied: wsproto>=0.14 in c:\\users\\asus\\appdata\\local\\programs\\python\\python312\\lib\\site-packages (from trio-websocket~=0.9->selenium) (1.2.0)\n",
      "Requirement already satisfied: pysocks!=1.5.7,<2.0,>=1.5.6 in c:\\users\\asus\\appdata\\local\\programs\\python\\python312\\lib\\site-packages (from urllib3[socks]<3,>=1.26->selenium) (1.7.1)\n",
      "Requirement already satisfied: pycparser in c:\\users\\asus\\appdata\\local\\programs\\python\\python312\\lib\\site-packages (from cffi>=1.14->trio~=0.17->selenium) (2.22)\n",
      "Requirement already satisfied: h11<1,>=0.9.0 in c:\\users\\asus\\appdata\\local\\programs\\python\\python312\\lib\\site-packages (from wsproto>=0.14->trio-websocket~=0.9->selenium) (0.14.0)\n",
      "Note: you may need to restart the kernel to use updated packages.\n"
     ]
    },
    {
     "name": "stderr",
     "output_type": "stream",
     "text": [
      "\n",
      "[notice] A new release of pip is available: 24.0 -> 24.3.1\n",
      "[notice] To update, run: python.exe -m pip install --upgrade pip\n"
     ]
    }
   ],
   "source": [
    "pip install selenium"
   ]
  },
  {
   "cell_type": "code",
   "execution_count": 2,
   "metadata": {},
   "outputs": [
    {
     "name": "stdout",
     "output_type": "stream",
     "text": [
      "Requirement already satisfied: pandas in c:\\users\\asus\\appdata\\local\\programs\\python\\python312\\lib\\site-packages (2.2.3)Note: you may need to restart the kernel to use updated packages.\n"
     ]
    },
    {
     "name": "stderr",
     "output_type": "stream",
     "text": [
      "\n",
      "[notice] A new release of pip is available: 24.0 -> 24.3.1\n",
      "[notice] To update, run: python.exe -m pip install --upgrade pip\n"
     ]
    },
    {
     "name": "stdout",
     "output_type": "stream",
     "text": [
      "\n",
      "Requirement already satisfied: numpy>=1.26.0 in c:\\users\\asus\\appdata\\local\\programs\\python\\python312\\lib\\site-packages (from pandas) (1.26.4)\n",
      "Requirement already satisfied: python-dateutil>=2.8.2 in c:\\users\\asus\\appdata\\local\\programs\\python\\python312\\lib\\site-packages (from pandas) (2.9.0.post0)\n",
      "Requirement already satisfied: pytz>=2020.1 in c:\\users\\asus\\appdata\\local\\programs\\python\\python312\\lib\\site-packages (from pandas) (2024.2)\n",
      "Requirement already satisfied: tzdata>=2022.7 in c:\\users\\asus\\appdata\\local\\programs\\python\\python312\\lib\\site-packages (from pandas) (2024.2)\n",
      "Requirement already satisfied: six>=1.5 in c:\\users\\asus\\appdata\\local\\programs\\python\\python312\\lib\\site-packages (from python-dateutil>=2.8.2->pandas) (1.16.0)\n"
     ]
    }
   ],
   "source": [
    "pip install pandas"
   ]
  },
  {
   "cell_type": "code",
   "execution_count": 1,
   "metadata": {},
   "outputs": [],
   "source": [
    "import pandas as pd"
   ]
  },
  {
   "cell_type": "code",
   "execution_count": 31,
   "metadata": {},
   "outputs": [],
   "source": [
    "from selenium import webdriver\n",
    "from selenium.webdriver.chrome.service import Service\n",
    "from selenium.webdriver.common.by import By\n",
    "from selenium.webdriver.chrome.options import Options\n",
    "import time\n",
    "import random\n",
    "import re"
   ]
  },
  {
   "cell_type": "markdown",
   "metadata": {},
   "source": [
    "## Inicializando uma instância do google chrome"
   ]
  },
  {
   "cell_type": "code",
   "execution_count": 24,
   "metadata": {},
   "outputs": [],
   "source": [
    "# A classe service é usada para iniciar uma instancia do chrome webdriver\n",
    "service = Service()\n",
    "\n",
    "# webdriver.Chromeoptions é usado para definir a preferência para o brower do chrome\n",
    "options = webdriver.ChromeOptions()\n",
    "\n",
    "# Inicia-se a instância do chrome WebDriver com as definidas 'options' e 'service'\n",
    "driver = webdriver.Chrome(service=service, options=options)"
   ]
  },
  {
   "cell_type": "code",
   "execution_count": 25,
   "metadata": {},
   "outputs": [],
   "source": [
    "url = \"https://www.espn.com.br/nba/classificacao/_/grupo/liga\"\n",
    "\n",
    "driver.get(url)"
   ]
  },
  {
   "cell_type": "markdown",
   "metadata": {},
   "source": [
    "## Raspagem dos Times"
   ]
  },
  {
   "cell_type": "code",
   "execution_count": 27,
   "metadata": {},
   "outputs": [
    {
     "name": "stdout",
     "output_type": "stream",
     "text": [
      "Encontrados 30 times\n",
      "Cleveland Cavaliers\n",
      "Boston Celtics\n",
      "Oklahoma City Thunder\n",
      "Memphis Grizzlies\n",
      "Houston Rockets\n",
      "Dallas Mavericks\n",
      "New York Knicks\n",
      "Orlando Magic\n",
      "Denver Nuggets\n",
      "Milwaukee Bucks\n",
      "Phoenix Suns\n",
      "Minnesota Timberwolves\n",
      "Golden State Warriors\n",
      "LA Clippers\n",
      "Miami Heat\n",
      "Los Angeles Lakers\n",
      "Atlanta Hawks\n",
      "San Antonio Spurs\n",
      "Sacramento Kings\n",
      "Indiana Pacers\n",
      "Chicago Bulls\n",
      "Detroit Pistons\n",
      "Brooklyn Nets\n",
      "Philadelphia 76ers\n",
      "Portland Trail Blazers\n",
      "Charlotte Hornets\n",
      "Toronto Raptors\n",
      "Utah Jazz\n",
      "New Orleans Pelicans\n",
      "Washington Wizards\n"
     ]
    }
   ],
   "source": [
    "# Encontra todos os elementos com a tag <a>\n",
    "all_teams = []\n",
    "\n",
    "selector = 'a[data-clubhouse-uid^=\"s:40~l:46~t:\"]'\n",
    "teams = driver.find_elements(By.CSS_SELECTOR, selector)\n",
    "\n",
    "# Filtra os elementos para remover espaços em branco ou elementos sem texto\n",
    "all_teams = [team for team in teams if team.text.strip()]\n",
    "\n",
    "print(f\"Encontrados {len(all_teams)} times\")\n",
    "\n",
    "for team in all_teams:\n",
    "  print(team.text)\n"
   ]
  },
  {
   "cell_type": "markdown",
   "metadata": {},
   "source": [
    "### Teste"
   ]
  },
  {
   "cell_type": "code",
   "execution_count": null,
   "metadata": {},
   "outputs": [
    {
     "ename": "StaleElementReferenceException",
     "evalue": "Message: stale element reference: stale element not found in the current frame\n  (Session info: chrome=131.0.6778.140); For documentation on this error, please visit: https://www.selenium.dev/documentation/webdriver/troubleshooting/errors#stale-element-reference-exception\nStacktrace:\n\tGetHandleVerifier [0x00007FF616866CC5+28821]\n\t(No symbol) [0x00007FF6167D3850]\n\t(No symbol) [0x00007FF61667578A]\n\t(No symbol) [0x00007FF61667C2ED]\n\t(No symbol) [0x00007FF61667EFCC]\n\t(No symbol) [0x00007FF61667F09F]\n\t(No symbol) [0x00007FF6166C311B]\n\t(No symbol) [0x00007FF6166EF2FA]\n\t(No symbol) [0x00007FF6166BC3F6]\n\t(No symbol) [0x00007FF6166EF510]\n\t(No symbol) [0x00007FF61670F412]\n\t(No symbol) [0x00007FF6166EF0A3]\n\t(No symbol) [0x00007FF6166BA778]\n\t(No symbol) [0x00007FF6166BB8E1]\n\tGetHandleVerifier [0x00007FF616B9FCCD+3408029]\n\tGetHandleVerifier [0x00007FF616BB743F+3504143]\n\tGetHandleVerifier [0x00007FF616BAB61D+3455469]\n\tGetHandleVerifier [0x00007FF61692BDCB+835995]\n\t(No symbol) [0x00007FF6167DEB6F]\n\t(No symbol) [0x00007FF6167DA824]\n\t(No symbol) [0x00007FF6167DA9BD]\n\t(No symbol) [0x00007FF6167CA1A9]\n\tBaseThreadInitThunk [0x00007FFE56407374+20]\n\tRtlUserThreadStart [0x00007FFE577BCC91+33]\n",
     "output_type": "error",
     "traceback": [
      "\u001b[1;31m---------------------------------------------------------------------------\u001b[0m",
      "\u001b[1;31mStaleElementReferenceException\u001b[0m            Traceback (most recent call last)",
      "Cell \u001b[1;32mIn[28], line 18\u001b[0m\n\u001b[0;32m     16\u001b[0m     cells \u001b[38;5;241m=\u001b[39m row\u001b[38;5;241m.\u001b[39mfind_elements(By\u001b[38;5;241m.\u001b[39mTAG_NAME, \u001b[38;5;124m\"\u001b[39m\u001b[38;5;124mtd\u001b[39m\u001b[38;5;124m\"\u001b[39m)  \u001b[38;5;66;03m# Encontra todas as células\u001b[39;00m\n\u001b[0;32m     17\u001b[0m     \u001b[38;5;28;01mif\u001b[39;00m cells:  \u001b[38;5;66;03m# Garante que a linha não está vazia\u001b[39;00m\n\u001b[1;32m---> 18\u001b[0m         player_info \u001b[38;5;241m=\u001b[39m [\u001b[43mcell\u001b[49m\u001b[38;5;241;43m.\u001b[39;49m\u001b[43mtext\u001b[49m\u001b[38;5;241m.\u001b[39mstrip() \u001b[38;5;28;01mfor\u001b[39;00m cell \u001b[38;5;129;01min\u001b[39;00m cells]  \u001b[38;5;66;03m# Extrai o texto das células\u001b[39;00m\n\u001b[0;32m     20\u001b[0m \u001b[38;5;28;01mfor\u001b[39;00m p \u001b[38;5;129;01min\u001b[39;00m player_info:\n\u001b[0;32m     21\u001b[0m     \u001b[38;5;28mprint\u001b[39m(p)\n",
      "File \u001b[1;32mc:\\Users\\Asus\\AppData\\Local\\Programs\\Python\\Python312\\Lib\\site-packages\\selenium\\webdriver\\remote\\webelement.py:90\u001b[0m, in \u001b[0;36mWebElement.text\u001b[1;34m(self)\u001b[0m\n\u001b[0;32m     87\u001b[0m \u001b[38;5;129m@property\u001b[39m\n\u001b[0;32m     88\u001b[0m \u001b[38;5;28;01mdef\u001b[39;00m \u001b[38;5;21mtext\u001b[39m(\u001b[38;5;28mself\u001b[39m) \u001b[38;5;241m-\u001b[39m\u001b[38;5;241m>\u001b[39m \u001b[38;5;28mstr\u001b[39m:\n\u001b[0;32m     89\u001b[0m \u001b[38;5;250m    \u001b[39m\u001b[38;5;124;03m\"\"\"The text of the element.\"\"\"\u001b[39;00m\n\u001b[1;32m---> 90\u001b[0m     \u001b[38;5;28;01mreturn\u001b[39;00m \u001b[38;5;28;43mself\u001b[39;49m\u001b[38;5;241;43m.\u001b[39;49m\u001b[43m_execute\u001b[49m\u001b[43m(\u001b[49m\u001b[43mCommand\u001b[49m\u001b[38;5;241;43m.\u001b[39;49m\u001b[43mGET_ELEMENT_TEXT\u001b[49m\u001b[43m)\u001b[49m[\u001b[38;5;124m\"\u001b[39m\u001b[38;5;124mvalue\u001b[39m\u001b[38;5;124m\"\u001b[39m]\n",
      "File \u001b[1;32mc:\\Users\\Asus\\AppData\\Local\\Programs\\Python\\Python312\\Lib\\site-packages\\selenium\\webdriver\\remote\\webelement.py:395\u001b[0m, in \u001b[0;36mWebElement._execute\u001b[1;34m(self, command, params)\u001b[0m\n\u001b[0;32m    393\u001b[0m     params \u001b[38;5;241m=\u001b[39m {}\n\u001b[0;32m    394\u001b[0m params[\u001b[38;5;124m\"\u001b[39m\u001b[38;5;124mid\u001b[39m\u001b[38;5;124m\"\u001b[39m] \u001b[38;5;241m=\u001b[39m \u001b[38;5;28mself\u001b[39m\u001b[38;5;241m.\u001b[39m_id\n\u001b[1;32m--> 395\u001b[0m \u001b[38;5;28;01mreturn\u001b[39;00m \u001b[38;5;28;43mself\u001b[39;49m\u001b[38;5;241;43m.\u001b[39;49m\u001b[43m_parent\u001b[49m\u001b[38;5;241;43m.\u001b[39;49m\u001b[43mexecute\u001b[49m\u001b[43m(\u001b[49m\u001b[43mcommand\u001b[49m\u001b[43m,\u001b[49m\u001b[43m \u001b[49m\u001b[43mparams\u001b[49m\u001b[43m)\u001b[49m\n",
      "File \u001b[1;32mc:\\Users\\Asus\\AppData\\Local\\Programs\\Python\\Python312\\Lib\\site-packages\\selenium\\webdriver\\remote\\webdriver.py:354\u001b[0m, in \u001b[0;36mWebDriver.execute\u001b[1;34m(self, driver_command, params)\u001b[0m\n\u001b[0;32m    352\u001b[0m response \u001b[38;5;241m=\u001b[39m \u001b[38;5;28mself\u001b[39m\u001b[38;5;241m.\u001b[39mcommand_executor\u001b[38;5;241m.\u001b[39mexecute(driver_command, params)\n\u001b[0;32m    353\u001b[0m \u001b[38;5;28;01mif\u001b[39;00m response:\n\u001b[1;32m--> 354\u001b[0m     \u001b[38;5;28;43mself\u001b[39;49m\u001b[38;5;241;43m.\u001b[39;49m\u001b[43merror_handler\u001b[49m\u001b[38;5;241;43m.\u001b[39;49m\u001b[43mcheck_response\u001b[49m\u001b[43m(\u001b[49m\u001b[43mresponse\u001b[49m\u001b[43m)\u001b[49m\n\u001b[0;32m    355\u001b[0m     response[\u001b[38;5;124m\"\u001b[39m\u001b[38;5;124mvalue\u001b[39m\u001b[38;5;124m\"\u001b[39m] \u001b[38;5;241m=\u001b[39m \u001b[38;5;28mself\u001b[39m\u001b[38;5;241m.\u001b[39m_unwrap_value(response\u001b[38;5;241m.\u001b[39mget(\u001b[38;5;124m\"\u001b[39m\u001b[38;5;124mvalue\u001b[39m\u001b[38;5;124m\"\u001b[39m, \u001b[38;5;28;01mNone\u001b[39;00m))\n\u001b[0;32m    356\u001b[0m     \u001b[38;5;28;01mreturn\u001b[39;00m response\n",
      "File \u001b[1;32mc:\\Users\\Asus\\AppData\\Local\\Programs\\Python\\Python312\\Lib\\site-packages\\selenium\\webdriver\\remote\\errorhandler.py:229\u001b[0m, in \u001b[0;36mErrorHandler.check_response\u001b[1;34m(self, response)\u001b[0m\n\u001b[0;32m    227\u001b[0m         alert_text \u001b[38;5;241m=\u001b[39m value[\u001b[38;5;124m\"\u001b[39m\u001b[38;5;124malert\u001b[39m\u001b[38;5;124m\"\u001b[39m]\u001b[38;5;241m.\u001b[39mget(\u001b[38;5;124m\"\u001b[39m\u001b[38;5;124mtext\u001b[39m\u001b[38;5;124m\"\u001b[39m)\n\u001b[0;32m    228\u001b[0m     \u001b[38;5;28;01mraise\u001b[39;00m exception_class(message, screen, stacktrace, alert_text)  \u001b[38;5;66;03m# type: ignore[call-arg]  # mypy is not smart enough here\u001b[39;00m\n\u001b[1;32m--> 229\u001b[0m \u001b[38;5;28;01mraise\u001b[39;00m exception_class(message, screen, stacktrace)\n",
      "\u001b[1;31mStaleElementReferenceException\u001b[0m: Message: stale element reference: stale element not found in the current frame\n  (Session info: chrome=131.0.6778.140); For documentation on this error, please visit: https://www.selenium.dev/documentation/webdriver/troubleshooting/errors#stale-element-reference-exception\nStacktrace:\n\tGetHandleVerifier [0x00007FF616866CC5+28821]\n\t(No symbol) [0x00007FF6167D3850]\n\t(No symbol) [0x00007FF61667578A]\n\t(No symbol) [0x00007FF61667C2ED]\n\t(No symbol) [0x00007FF61667EFCC]\n\t(No symbol) [0x00007FF61667F09F]\n\t(No symbol) [0x00007FF6166C311B]\n\t(No symbol) [0x00007FF6166EF2FA]\n\t(No symbol) [0x00007FF6166BC3F6]\n\t(No symbol) [0x00007FF6166EF510]\n\t(No symbol) [0x00007FF61670F412]\n\t(No symbol) [0x00007FF6166EF0A3]\n\t(No symbol) [0x00007FF6166BA778]\n\t(No symbol) [0x00007FF6166BB8E1]\n\tGetHandleVerifier [0x00007FF616B9FCCD+3408029]\n\tGetHandleVerifier [0x00007FF616BB743F+3504143]\n\tGetHandleVerifier [0x00007FF616BAB61D+3455469]\n\tGetHandleVerifier [0x00007FF61692BDCB+835995]\n\t(No symbol) [0x00007FF6167DEB6F]\n\t(No symbol) [0x00007FF6167DA824]\n\t(No symbol) [0x00007FF6167DA9BD]\n\t(No symbol) [0x00007FF6167CA1A9]\n\tBaseThreadInitThunk [0x00007FFE56407374+20]\n\tRtlUserThreadStart [0x00007FFE577BCC91+33]\n"
     ]
    }
   ],
   "source": [
    "all_teams[0].click()\n",
    "selector = 'a[data-track-nav_item=\"elenco\"]'\n",
    "driver.find_element(By.CSS_SELECTOR, selector).click()\n",
    "time.sleep(5)"
   ]
  },
  {
   "cell_type": "code",
   "execution_count": null,
   "metadata": {},
   "outputs": [],
   "source": [
    "list_players = []\n",
    "\n",
    "# Encontra a tabela (sem classes)\n",
    "table = driver.find_element(By.TAG_NAME, \"table\")\n",
    "\n",
    "# Encontra todas as linhas (tr) da tabela\n",
    "rows = table.find_elements(By.TAG_NAME, \"tr\")\n",
    "\n",
    "# Itera pelas linhas da tabela (ignorando o cabeçalho, se existir)\n",
    "for row in rows[1:]: # Ignora o cabeçalho (primeira linha)\n",
    "    player_data = {}  \n",
    "    cells = row.find_elements(By.TAG_NAME, \"td\")  # Encontra todas as células\n",
    "\n",
    "    if cells:  # Verifica se a linha contém células (se não for uma linha vazia)\n",
    "        # Pegue a imagem\n",
    "        image = row.find_element(By.TAG_NAME, \"img\").get_attribute(\"alt\") \n",
    "\n",
    "        # Extrai o texto das células da linha\n",
    "        player_info = [cell.text.strip() for cell in cells]\n",
    "\n",
    "        # Atribui os dados ao dicionário de jogador\n",
    "        if len(player_info) >= 7:\n",
    "            player_data[\"image\"] = image\n",
    "            player_data[\"nome\"] = re.match(r\"\\D+\",player_info[1]).group(0) \n",
    "            player_data[\"numero\"] = re.search(r\"\\d+\",player_info[1]).group(0) \n",
    "            player_data[\"pos\"] = player_info[2]\n",
    "            player_data[\"idade\"] = player_info[3]\n",
    "            player_data[\"alt\"] = player_info[4]\n",
    "            player_data[\"p\"] = player_info[5]\n",
    "            player_data[\"univ\"] = player_info[6]\n",
    "            player_data[\"salario\"] = player_info[7]\n",
    "\n",
    "            # Adiciona o jogador à lista de jogadores\n",
    "            list_players.append(player_data)\n"
   ]
  },
  {
   "cell_type": "code",
   "execution_count": 72,
   "metadata": {},
   "outputs": [
    {
     "name": "stdout",
     "output_type": "stream",
     "text": [
      "Kenny Atkinson\n",
      "{'image': 'https://a.espncdn.com/i/headshots/nba/players/full/4066328.png', 'nome': 'Jarrett Allen', 'numero': '31', 'pos': 'C', 'idade': '26', 'alt': '2.06 m', 'p': '110 kg', 'univ': 'Texas', 'salario': '$20,000,000'}\n",
      "{'image': 'https://a.espncdn.com/i/headshots/nba/players/full/4433620.png', 'nome': 'Emoni Bates', 'numero': '21', 'pos': 'A', 'idade': '20', 'alt': '2.03 m', 'p': '77 kg', 'univ': 'Eastern Michigan', 'salario': '--'}\n",
      "{'image': 'https://a.espncdn.com/i/headshots/nba/players/full/4396907.png', 'nome': 'Darius Garland', 'numero': '10', 'pos': 'PG', 'idade': '24', 'alt': '1.85 m', 'p': '87 kg', 'univ': 'Vanderbilt', 'salario': '$36,725,670'}\n",
      "{'image': 'https://a.espncdn.com/i/headshots/nba/players/full/4065733.png', 'nome': 'Ty Jerome', 'numero': '2', 'pos': 'SG', 'idade': '27', 'alt': '1.96 m', 'p': '88 kg', 'univ': 'Virginia', 'salario': '$2,560,975'}\n",
      "{'image': 'https://a.espncdn.com/i/headshots/nba/players/full/2991043.png', 'nome': 'Caris LeVert', 'numero': '3', 'pos': 'SG', 'idade': '30', 'alt': '1.98 m', 'p': '92 kg', 'univ': 'Michigan', 'salario': '$16,615,384'}\n",
      "{'image': 'https://a.espncdn.com/i/headshots/nba/players/full/4066757.png', 'nome': 'Sam Merrill', 'numero': '5', 'pos': 'SG', 'idade': '28', 'alt': '1.93 m', 'p': '92 kg', 'univ': 'Utah State', 'salario': '$2,164,993'}\n",
      "{'image': 'https://a.espncdn.com/i/headshots/nba/players/full/3908809.png', 'nome': 'Donovan Mitchell', 'numero': '45', 'pos': 'SG', 'idade': '28', 'alt': '1.91 m', 'p': '97 kg', 'univ': 'Louisville', 'salario': '$35,410,310'}\n",
      "{'image': 'https://a.espncdn.com/i/headshots/nba/players/full/4432158.png', 'nome': 'Evan Mobley', 'numero': '4', 'pos': 'PF', 'idade': '23', 'alt': '2.11 m', 'p': '97 kg', 'univ': 'USC', 'salario': '$11,227,809'}\n",
      "{'image': 'https://a.espncdn.com/i/headshots/nba/players/full/2990969.png', 'nome': 'Georges Niang', 'numero': '20', 'pos': 'SF', 'idade': '31', 'alt': '2.01 m', 'p': '104 kg', 'univ': 'Iowa State', 'salario': '$8,500,000'}\n",
      "{'image': 'https://a.espncdn.com/i/headshots/nba/players/full/4432822.png', 'nome': 'Isaac Okoro', 'numero': '35', 'pos': 'SF', 'idade': '23', 'alt': '1.96 m', 'p': '102 kg', 'univ': 'Auburn', 'salario': '$10,185,185'}\n",
      "{'image': 'https://a.espncdn.com/i/headshots/nba/players/full/4701233.png', 'nome': 'Craig Porter Jr.', 'numero': '9', 'pos': 'G', 'idade': '24', 'alt': '1.85 m', 'p': '81 kg', 'univ': 'Wichita State', 'salario': '$1,891,857'}\n",
      "{'image': 'https://a.espncdn.com/i/headshots/nba/players/full/4065778.png', 'nome': 'Max Strus', 'numero': '1', 'pos': 'SG', 'idade': '28', 'alt': '1.96 m', 'p': '97 kg', 'univ': 'DePaul', 'salario': '$15,212,068'}\n",
      "{'image': 'https://a.espncdn.com/i/headshots/nba/players/full/6474.png', 'nome': 'Tristan Thompson', 'numero': '13', 'pos': 'C', 'idade': '33', 'alt': '2.06 m', 'p': '115 kg', 'univ': 'Texas', 'salario': '$2,087,519'}\n",
      "{'image': 'https://a.espncdn.com/i/headshots/nba/players/full/4702233.png', 'nome': 'JT Thor', 'numero': '15', 'pos': 'A', 'idade': '22', 'alt': '2.06 m', 'p': '92 kg', 'univ': 'Auburn', 'salario': '$1,988,598'}\n",
      "{'image': 'https://a.espncdn.com/i/headshots/nba/players/full/4997539.png', 'nome': 'Luke Travers', 'numero': '33', 'pos': 'G', 'idade': '23', 'alt': '2.01 m', 'p': '93 kg', 'univ': '--', 'salario': '--'}\n",
      "{'image': 'https://a.espncdn.com/i/headshots/nba/players/full/4683747.png', 'nome': 'Jaylon Tyson', 'numero': '24', 'pos': 'A', 'idade': '22', 'alt': '1.98 m', 'p': '97 kg', 'univ': 'Califórnia', 'salario': '$3,326,160'}\n",
      "{'image': 'https://a.espncdn.com/i/headshots/nba/players/full/3912848.png', 'nome': 'Dean Wade', 'numero': '32', 'pos': 'PF', 'idade': '28', 'alt': '2.06 m', 'p': '103 kg', 'univ': 'Kansas State', 'salario': '$6,166,667'}\n"
     ]
    }
   ],
   "source": [
    "technical = driver.find_element(By.CLASS_NAME, \"TableDetails__Paragraph\").text.replace(\"Nome do técnico\", \"\").strip()\n",
    "print(technical)\n",
    "for p in list_players:\n",
    "  print(p)"
   ]
  },
  {
   "cell_type": "code",
   "execution_count": 20,
   "metadata": {},
   "outputs": [
    {
     "name": "stdout",
     "output_type": "stream",
     "text": [
      "https://a.espncdn.com/combiner/i?img=/i/teamlogos/nba/500/cle.png&h=200&w=200\n"
     ]
    }
   ],
   "source": [
    "\n",
    "image_link = driver.find_element(By.CLASS_NAME, \"Logo__xxl\").get_attribute('src')\n",
    "print(image_link)\n",
    "\n",
    "# Delay aleatório entre 2 e 5 segundos\n",
    "time.sleep(random.uniform(2, 5))"
   ]
  },
  {
   "cell_type": "code",
   "execution_count": 7,
   "metadata": {},
   "outputs": [],
   "source": [
    "driver.back()"
   ]
  }
 ],
 "metadata": {
  "kernelspec": {
   "display_name": "Python 3",
   "language": "python",
   "name": "python3"
  },
  "language_info": {
   "codemirror_mode": {
    "name": "ipython",
    "version": 3
   },
   "file_extension": ".py",
   "mimetype": "text/x-python",
   "name": "python",
   "nbconvert_exporter": "python",
   "pygments_lexer": "ipython3",
   "version": "3.12.3"
  }
 },
 "nbformat": 4,
 "nbformat_minor": 2
}
