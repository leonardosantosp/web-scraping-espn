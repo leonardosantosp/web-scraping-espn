{
 "cells": [
  {
   "cell_type": "code",
   "execution_count": 1,
   "metadata": {},
   "outputs": [
    {
     "name": "stdout",
     "output_type": "stream",
     "text": [
      "Collecting selenium\n",
      "  Downloading selenium-4.27.1-py3-none-any.whl (9.7 MB)\n",
      "\u001b[K     |████████████████████████████████| 9.7 MB 92 kB/s  eta 0:00:01\n",
      "\u001b[?25hCollecting trio-websocket~=0.9\n",
      "  Downloading trio_websocket-0.11.1-py3-none-any.whl (17 kB)\n",
      "Collecting urllib3[socks]<3,>=1.26\n",
      "  Downloading urllib3-2.2.3-py3-none-any.whl (126 kB)\n",
      "\u001b[K     |████████████████████████████████| 126 kB 6.7 MB/s eta 0:00:01\n",
      "\u001b[?25hCollecting certifi>=2021.10.8\n",
      "  Downloading certifi-2024.12.14-py3-none-any.whl (164 kB)\n",
      "\u001b[K     |████████████████████████████████| 164 kB 12.1 MB/s eta 0:00:01\n",
      "\u001b[?25hRequirement already satisfied: typing_extensions~=4.9 in /home/leonardo/.local/lib/python3.8/site-packages (from selenium) (4.12.2)\n",
      "Collecting trio~=0.17\n",
      "  Downloading trio-0.27.0-py3-none-any.whl (481 kB)\n",
      "\u001b[K     |████████████████████████████████| 481 kB 20.6 MB/s eta 0:00:01\n",
      "\u001b[?25hCollecting websocket-client~=1.8\n",
      "  Downloading websocket_client-1.8.0-py3-none-any.whl (58 kB)\n",
      "\u001b[K     |████████████████████████████████| 58 kB 891 kB/s eta 0:00:011\n",
      "\u001b[?25hCollecting wsproto>=0.14\n",
      "  Downloading wsproto-1.2.0-py3-none-any.whl (24 kB)\n",
      "Collecting exceptiongroup; python_version < \"3.11\"\n",
      "  Downloading exceptiongroup-1.2.2-py3-none-any.whl (16 kB)\n",
      "Collecting pysocks!=1.5.7,<2.0,>=1.5.6; extra == \"socks\"\n",
      "  Downloading PySocks-1.7.1-py3-none-any.whl (16 kB)\n",
      "Collecting sortedcontainers\n",
      "  Downloading sortedcontainers-2.4.0-py2.py3-none-any.whl (29 kB)\n",
      "Collecting sniffio>=1.3.0\n",
      "  Downloading sniffio-1.3.1-py3-none-any.whl (10 kB)\n",
      "Collecting attrs>=23.2.0\n",
      "  Downloading attrs-24.3.0-py3-none-any.whl (63 kB)\n",
      "\u001b[K     |████████████████████████████████| 63 kB 429 kB/s  eta 0:00:01\n",
      "\u001b[?25hCollecting outcome\n",
      "  Downloading outcome-1.3.0.post0-py2.py3-none-any.whl (10 kB)\n",
      "Requirement already satisfied: idna in /usr/lib/python3/dist-packages (from trio~=0.17->selenium) (2.8)\n",
      "Collecting h11<1,>=0.9.0\n",
      "  Downloading h11-0.14.0-py3-none-any.whl (58 kB)\n",
      "\u001b[K     |████████████████████████████████| 58 kB 1.4 MB/s  eta 0:00:01\n",
      "\u001b[?25hInstalling collected packages: h11, wsproto, exceptiongroup, sortedcontainers, sniffio, attrs, outcome, trio, trio-websocket, pysocks, urllib3, certifi, websocket-client, selenium\n",
      "Successfully installed attrs-24.3.0 certifi-2024.12.14 exceptiongroup-1.2.2 h11-0.14.0 outcome-1.3.0.post0 pysocks-1.7.1 selenium-4.27.1 sniffio-1.3.1 sortedcontainers-2.4.0 trio-0.27.0 trio-websocket-0.11.1 urllib3-2.2.3 websocket-client-1.8.0 wsproto-1.2.0\n",
      "Note: you may need to restart the kernel to use updated packages.\n"
     ]
    }
   ],
   "source": [
    "pip install selenium"
   ]
  },
  {
   "cell_type": "code",
   "execution_count": 2,
   "metadata": {},
   "outputs": [
    {
     "name": "stdout",
     "output_type": "stream",
     "text": [
      "Collecting pandas\n",
      "  Downloading pandas-2.0.3-cp38-cp38-manylinux_2_17_x86_64.manylinux2014_x86_64.whl (12.4 MB)\n",
      "\u001b[K     |████████████████████████████████| 12.4 MB 6.8 MB/s eta 0:00:01 MB 3.6 MB/s eta 0:00:03\n",
      "\u001b[?25hCollecting pytz>=2020.1\n",
      "  Downloading pytz-2024.2-py2.py3-none-any.whl (508 kB)\n",
      "\u001b[K     |████████████████████████████████| 508 kB 12.5 MB/s eta 0:00:01\n",
      "\u001b[?25hCollecting tzdata>=2022.1\n",
      "  Downloading tzdata-2024.2-py2.py3-none-any.whl (346 kB)\n",
      "\u001b[K     |████████████████████████████████| 346 kB 5.5 MB/s eta 0:00:01\n",
      "\u001b[?25hRequirement already satisfied: python-dateutil>=2.8.2 in /home/leonardo/.local/lib/python3.8/site-packages (from pandas) (2.9.0.post0)\n",
      "Collecting numpy>=1.20.3; python_version < \"3.10\"\n",
      "  Downloading numpy-1.24.4-cp38-cp38-manylinux_2_17_x86_64.manylinux2014_x86_64.whl (17.3 MB)\n",
      "\u001b[K     |████████████████████████████████| 17.3 MB 19.0 MB/s eta 0:00:01    |███████████████████▎            | 10.4 MB 9.3 MB/s eta 0:00:01\n",
      "\u001b[?25hRequirement already satisfied: six>=1.5 in /usr/lib/python3/dist-packages (from python-dateutil>=2.8.2->pandas) (1.14.0)\n",
      "Installing collected packages: pytz, tzdata, numpy, pandas\n",
      "Successfully installed numpy-1.24.4 pandas-2.0.3 pytz-2024.2 tzdata-2024.2\n",
      "Note: you may need to restart the kernel to use updated packages.\n"
     ]
    }
   ],
   "source": [
    "pip install pandas"
   ]
  },
  {
   "cell_type": "code",
   "execution_count": 6,
   "metadata": {},
   "outputs": [
    {
     "name": "stdout",
     "output_type": "stream",
     "text": [
      "Requirement already satisfied: pyodbc in /home/leonardo/.local/lib/python3.8/site-packages (5.2.0)\n",
      "Requirement already satisfied: sqlalchemy in /home/leonardo/.local/lib/python3.8/site-packages (2.0.36)\n",
      "Requirement already satisfied: typing-extensions>=4.6.0 in /home/leonardo/.local/lib/python3.8/site-packages (from sqlalchemy) (4.12.2)\n",
      "Requirement already satisfied: greenlet!=0.4.17; python_version < \"3.13\" and (platform_machine == \"aarch64\" or (platform_machine == \"ppc64le\" or (platform_machine == \"x86_64\" or (platform_machine == \"amd64\" or (platform_machine == \"AMD64\" or (platform_machine == \"win32\" or platform_machine == \"WIN32\")))))) in /home/leonardo/.local/lib/python3.8/site-packages (from sqlalchemy) (3.1.1)\n",
      "Note: you may need to restart the kernel to use updated packages.\n"
     ]
    }
   ],
   "source": [
    "pip install pyodbc sqlalchemy\n"
   ]
  },
  {
   "cell_type": "code",
   "execution_count": 1,
   "metadata": {},
   "outputs": [],
   "source": [
    "import pandas as pd"
   ]
  },
  {
   "cell_type": "code",
   "execution_count": 11,
   "metadata": {},
   "outputs": [],
   "source": [
    "from selenium import webdriver\n",
    "from selenium.webdriver.chrome.service import Service\n",
    "from selenium.webdriver.common.by import By\n",
    "from selenium.webdriver.chrome.options import Options\n",
    "import time\n",
    "import random\n",
    "import re\n",
    "\n",
    "from sqlalchemy import create_engine, text, MetaData, Table, Column, Integer, String, ForeignKey\n",
    "from sqlalchemy.orm import sessionmaker"
   ]
  },
  {
   "cell_type": "markdown",
   "metadata": {},
   "source": [
    "## Inicializando uma instância do google chrome"
   ]
  },
  {
   "cell_type": "code",
   "execution_count": 3,
   "metadata": {},
   "outputs": [],
   "source": [
    "# A classe service é usada para iniciar uma instancia do chrome webdriver\n",
    "service = Service()\n",
    "\n",
    "# webdriver.Chromeoptions é usado para definir a preferência para o brower do chrome\n",
    "options = webdriver.ChromeOptions()\n",
    "\n",
    "# Inicia-se a instância do chrome WebDriver com as definidas 'options' e 'service'\n",
    "driver = webdriver.Chrome(service=service, options=options)"
   ]
  },
  {
   "cell_type": "code",
   "execution_count": 4,
   "metadata": {},
   "outputs": [],
   "source": [
    "url = \"https://www.espn.com.br/nba/classificacao/_/grupo/liga\"\n",
    "\n",
    "driver.get(url)"
   ]
  },
  {
   "cell_type": "markdown",
   "metadata": {},
   "source": [
    "## Raspagem dos Times"
   ]
  },
  {
   "cell_type": "code",
   "execution_count": 5,
   "metadata": {},
   "outputs": [
    {
     "name": "stdout",
     "output_type": "stream",
     "text": [
      "Encontrados 30 times\n",
      "Cleveland Cavaliers\n",
      "Oklahoma City Thunder\n",
      "Boston Celtics\n",
      "Houston Rockets\n",
      "New York Knicks\n",
      "Memphis Grizzlies\n",
      "Denver Nuggets\n",
      "Dallas Mavericks\n",
      "Orlando Magic\n",
      "Los Angeles Lakers\n",
      "Milwaukee Bucks\n",
      "Minnesota Timberwolves\n",
      "LA Clippers\n",
      "Miami Heat\n",
      "Indiana Pacers\n",
      "Golden State Warriors\n",
      "Detroit Pistons\n",
      "Atlanta Hawks\n",
      "San Antonio Spurs\n",
      "Sacramento Kings\n",
      "Phoenix Suns\n",
      "Chicago Bulls\n",
      "Philadelphia 76ers\n",
      "Brooklyn Nets\n",
      "Portland Trail Blazers\n",
      "Utah Jazz\n",
      "Charlotte Hornets\n",
      "Toronto Raptors\n",
      "New Orleans Pelicans\n",
      "Washington Wizards\n",
      "['https://www.espn.com.br/nba/time/_/nome/cle/cleveland-cavaliers', 'https://www.espn.com.br/nba/time/_/nome/okc/oklahoma-city-thunder', 'https://www.espn.com.br/nba/time/_/nome/bos/boston-celtics', 'https://www.espn.com.br/nba/time/_/nome/hou/houston-rockets', 'https://www.espn.com.br/nba/time/_/nome/ny/new-york-knicks', 'https://www.espn.com.br/nba/time/_/nome/mem/memphis-grizzlies', 'https://www.espn.com.br/nba/time/_/nome/den/denver-nuggets', 'https://www.espn.com.br/nba/time/_/nome/dal/dallas-mavericks', 'https://www.espn.com.br/nba/time/_/nome/orl/orlando-magic', 'https://www.espn.com.br/nba/time/_/nome/lal/los-angeles-lakers', 'https://www.espn.com.br/nba/time/_/nome/mil/milwaukee-bucks', 'https://www.espn.com.br/nba/time/_/nome/min/minnesota-timberwolves', 'https://www.espn.com.br/nba/time/_/nome/lac/la-clippers', 'https://www.espn.com.br/nba/time/_/nome/mia/miami-heat', 'https://www.espn.com.br/nba/time/_/nome/ind/indiana-pacers', 'https://www.espn.com.br/nba/time/_/nome/gs/golden-state-warriors', 'https://www.espn.com.br/nba/time/_/nome/det/detroit-pistons', 'https://www.espn.com.br/nba/time/_/nome/atl/atlanta-hawks', 'https://www.espn.com.br/nba/time/_/nome/sa/san-antonio-spurs', 'https://www.espn.com.br/nba/time/_/nome/sac/sacramento-kings', 'https://www.espn.com.br/nba/time/_/nome/phx/phoenix-suns', 'https://www.espn.com.br/nba/time/_/nome/chi/chicago-bulls', 'https://www.espn.com.br/nba/time/_/nome/phi/philadelphia-76ers', 'https://www.espn.com.br/nba/time/_/nome/bkn/brooklyn-nets', 'https://www.espn.com.br/nba/time/_/nome/por/portland-trail-blazers', 'https://www.espn.com.br/nba/time/_/nome/utah/utah-jazz', 'https://www.espn.com.br/nba/time/_/nome/cha/charlotte-hornets', 'https://www.espn.com.br/nba/time/_/nome/tor/toronto-raptors', 'https://www.espn.com.br/nba/time/_/nome/no/new-orleans-pelicans', 'https://www.espn.com.br/nba/time/_/nome/wsh/washington-wizards']\n"
     ]
    }
   ],
   "source": [
    "# Encontra todos os elementos com a tag <a>\n",
    "all_teams = []\n",
    "\n",
    "selector = 'a[data-clubhouse-uid^=\"s:40~l:46~t:\"]'\n",
    "teams = driver.find_elements(By.CSS_SELECTOR, selector)\n",
    "\n",
    "# Filtra os elementos para remover espaços em branco ou elementos sem texto\n",
    "all_teams = [team for team in teams if team.text.strip()]\n",
    "\n",
    "print(f\"Encontrados {len(all_teams)} times\")\n",
    "\n",
    "for team in all_teams:\n",
    "  print(team.text)\n",
    "\n",
    "team_names = [team.text for team in all_teams]\n",
    "\n",
    "links = [link.get_attribute('href') for link in all_teams]\n",
    "print(links)\n"
   ]
  },
  {
   "cell_type": "markdown",
   "metadata": {},
   "source": [
    "### Raspagem dos jogadores"
   ]
  },
  {
   "cell_type": "code",
   "execution_count": 8,
   "metadata": {},
   "outputs": [],
   "source": [
    "\n",
    "list_teams = []\n",
    "\n",
    "for i, link in enumerate(links):\n",
    "  driver.get(links[i])\n",
    "  selector = 'a[data-track-nav_item=\"elenco\"]'\n",
    "  driver.find_element(By.CSS_SELECTOR, selector).click()\n",
    "\n",
    "  time.sleep(random.uniform(2, 5))\n",
    "  team_data = {}\n",
    "  list_players = []\n",
    "  \n",
    "  \n",
    "  # Encontra a tabela (sem classes)\n",
    "  table = driver.find_element(By.TAG_NAME, \"table\")\n",
    "\n",
    "  # Encontra todas as linhas (tr) da tabela\n",
    "  rows = table.find_elements(By.TAG_NAME, \"tr\")\n",
    "\n",
    "  # Itera pelas linhas da tabela (ignorando o cabeçalho, se existir)\n",
    "  for row in rows[1:]: # Ignora o cabeçalho (primeira linha)\n",
    "    player_data = {}  \n",
    "    cells = row.find_elements(By.TAG_NAME, \"td\")  # Encontra todas as células\n",
    "\n",
    "    if cells:  # Verifica se a linha contém células (se não for uma linha vazia)\n",
    "        # Pegue a imagem\n",
    "        image_player = row.find_element(By.TAG_NAME, \"img\").get_attribute(\"alt\") \n",
    "\n",
    "        # Extrai o texto das células da linha\n",
    "        player_info = [cell.text.strip() for cell in cells]\n",
    "\n",
    "        # Atribui os dados ao dicionário de jogador\n",
    "        if len(player_info) >= 7:\n",
    "            player_data[\"image\"] = image_player\n",
    "            player_data[\"nome\"] = re.match(r\"\\D+\",player_info[1]).group(0) if player_info[1] else None\n",
    "            player_data[\"numero\"] = re.search(r\"\\d+\",player_info[1]).group(0) if re.search(r\"\\d+\", player_info[1]) else None\n",
    "            player_data[\"pos\"] = player_info[2]\n",
    "            player_data[\"idade\"] = player_info[3]\n",
    "            player_data[\"alt\"] = player_info[4]\n",
    "            player_data[\"p\"] = player_info[5]\n",
    "            player_data[\"univ\"] = player_info[6]\n",
    "            player_data[\"salario\"] = player_info[7]\n",
    "\n",
    "            # Adiciona o jogador à lista de jogadores\n",
    "            list_players.append(player_data)\n",
    "\n",
    "  technical = driver.find_element(By.CLASS_NAME, \"TableDetails__Paragraph\").text.replace(\"Nome do técnico\", \"\").strip()\n",
    "  image_link = driver.find_element(By.CLASS_NAME, \"Logo__xxl\").get_attribute('src')\n",
    "    \n",
    "  team_data = {\n",
    "    \"id\": i,\n",
    "    \"time\": team_names[i],\n",
    "    \"technical\": technical,\n",
    "    \"image_link\": image_link,\n",
    "    \"players\": list_players,\n",
    "  }\n",
    "\n",
    "  list_teams.append(team_data)\n"
   ]
  },
  {
   "cell_type": "markdown",
   "metadata": {},
   "source": [
    "### Inserindo os dados na Base de dados"
   ]
  },
  {
   "cell_type": "code",
   "execution_count": 27,
   "metadata": {},
   "outputs": [],
   "source": [
    "from sqlalchemy import create_engine\n",
    "from urllib.parse import quote_plus\n",
    "\n",
    "server = \"localhost,1433\"\n",
    "user = \"sa\"\n",
    "password = \"SuperPassword@24\"\n",
    "db_name = \"NBAStats\"\n",
    "dsn = \"ODBC Driver 18 for SQL Server\"\n",
    "\n",
    "engine = create_engine(f\"mssql+pyodbc://{user}:%s@{server}/{db_name}?TrustServerCertificate=yes&driver={dsn}\" % quote_plus(password))\n",
    "\n",
    "connection = engine.connect()\n",
    "\n"
   ]
  },
  {
   "cell_type": "code",
   "execution_count": 39,
   "metadata": {},
   "outputs": [
    {
     "name": "stdout",
     "output_type": "stream",
     "text": [
      "Time inserido com sucesso!\n"
     ]
    }
   ],
   "source": [
    "\n",
    "# Crie uma sessão para interagir com o banco\n",
    "Session = sessionmaker(bind=engine)\n",
    "session = Session()\n",
    "\n",
    "\n",
    "\n",
    "for team in list_teams:\n",
    "    team_id = team[\"id\"]\n",
    "    sql_query = text(\"\"\"\n",
    "    INSERT INTO dbo.team (id, team_name, image, technical) \n",
    "    VALUES (:id, :team_name, :image, :technical)\n",
    "    \"\"\")\n",
    "\n",
    "    session.execute(sql_query, {\"id\": team[\"id\"], \"team_name\": team[\"time\"], \"image\": team[\"image_link\"], \"technical\": team[\"technical\"]})\n",
    "\n",
    "    for player in team[\"players\"]:\n",
    "        sql_query = text(\"\"\"\n",
    "            INSERT INTO player (player_name, player_number, pos, age, height, weight, college, salary, image_link, team_id)\n",
    "            VALUES (:player_name, :player_number, :pos, :age, :height, :weight, :college, :salary, :image_link, :team_id)\n",
    "            \"\"\")\n",
    "        session.execute(sql_query,\n",
    "            {\n",
    "                \"player_name\": player[\"nome\"],\n",
    "                \"player_number\": player[\"numero\"],\n",
    "                \"pos\": player[\"pos\"],\n",
    "                \"age\": player[\"idade\"],\n",
    "                \"height\": player[\"alt\"],\n",
    "                \"weight\": player[\"p\"],\n",
    "                \"college\": player[\"univ\"],\n",
    "                \"salary\": player[\"salario\"],\n",
    "                \"image_link\": player[\"image\"],\n",
    "                \"team_id\": team_id  # Relacionando o jogador ao time correto\n",
    "            }\n",
    "        )\n",
    "    \n",
    "    session.commit()  # Commit após inserir todos os jogadores de um time\n",
    "        \n",
    "\n",
    "print(\"Time inserido com sucesso!\")\n"
   ]
  }
 ],
 "metadata": {
  "kernelspec": {
   "display_name": "Python 3",
   "language": "python",
   "name": "python3"
  },
  "language_info": {
   "codemirror_mode": {
    "name": "ipython",
    "version": 3
   },
   "file_extension": ".py",
   "mimetype": "text/x-python",
   "name": "python",
   "nbconvert_exporter": "python",
   "pygments_lexer": "ipython3",
   "version": "3.8.10"
  }
 },
 "nbformat": 4,
 "nbformat_minor": 2
}
